{
 "cells": [
  {
   "cell_type": "code",
   "execution_count": 1,
   "metadata": {},
   "outputs": [
    {
     "ename": "NameError",
     "evalue": "name 'QThread' is not defined",
     "output_type": "error",
     "traceback": [
      "\u001b[1;31m---------------------------------------------------------------------------\u001b[0m",
      "\u001b[1;31mNameError\u001b[0m                                 Traceback (most recent call last)",
      "\u001b[1;32m<ipython-input-1-5abc5dee1b3a>\u001b[0m in \u001b[0;36m<module>\u001b[1;34m\u001b[0m\n\u001b[1;32m----> 1\u001b[1;33m \u001b[1;32mclass\u001b[0m \u001b[0mPlotThread\u001b[0m\u001b[1;33m(\u001b[0m\u001b[0mQThread\u001b[0m\u001b[1;33m)\u001b[0m\u001b[1;33m:\u001b[0m\u001b[1;33m\u001b[0m\u001b[1;33m\u001b[0m\u001b[0m\n\u001b[0m\u001b[0;32m      2\u001b[0m     \u001b[1;32mdef\u001b[0m \u001b[0m__init__\u001b[0m\u001b[1;33m(\u001b[0m\u001b[0mself\u001b[0m\u001b[1;33m,\u001b[0m \u001b[0mplot_widget\u001b[0m\u001b[1;33m)\u001b[0m\u001b[1;33m:\u001b[0m\u001b[1;31m#, plot_widget2):\u001b[0m\u001b[1;33m\u001b[0m\u001b[1;33m\u001b[0m\u001b[0m\n\u001b[0;32m      3\u001b[0m         \u001b[0msuper\u001b[0m\u001b[1;33m(\u001b[0m\u001b[1;33m)\u001b[0m\u001b[1;33m.\u001b[0m\u001b[0m__init__\u001b[0m\u001b[1;33m(\u001b[0m\u001b[1;33m)\u001b[0m\u001b[1;33m\u001b[0m\u001b[1;33m\u001b[0m\u001b[0m\n\u001b[0;32m      4\u001b[0m         \u001b[0mself\u001b[0m\u001b[1;33m.\u001b[0m\u001b[0mplot_widget\u001b[0m \u001b[1;33m=\u001b[0m \u001b[0mplot_widget\u001b[0m\u001b[1;33m\u001b[0m\u001b[1;33m\u001b[0m\u001b[0m\n\u001b[0;32m      5\u001b[0m         \u001b[0mself\u001b[0m\u001b[1;33m.\u001b[0m\u001b[0mx_data\u001b[0m \u001b[1;33m=\u001b[0m \u001b[1;33m[\u001b[0m\u001b[1;33m]\u001b[0m\u001b[1;33m\u001b[0m\u001b[1;33m\u001b[0m\u001b[0m\n",
      "\u001b[1;31mNameError\u001b[0m: name 'QThread' is not defined"
     ]
    }
   ],
   "source": [
    "class PlotThread(QThread):\n",
    "    def __init__(self, plot_widget):#, plot_widget2):\n",
    "        super().__init__()\n",
    "        self.plot_widget = plot_widget\n",
    "        self.x_data = []\n",
    "        self.y_data = []\n",
    "        self.i_data = []\n",
    "        self.j_data = []\n",
    "        self.mutex = QMutex() \n",
    "        self.pen1 = pg.mkPen(color=(255, 0, 0), width=3)\n",
    "        self.running = True\n",
    "\n",
    "    def update_data1(self, new_x, new_y):\n",
    "        self.mutex.lock()\n",
    "        self.x_data = np.append(self.x_data, new_x)\n",
    "        self.y_data = np.append(self.y_data, new_y)\n",
    "        self.mutex.unlock()\n",
    "\n",
    "    def update_data2(self, new_x, new_y):\n",
    "        self.mutex.lock()\n",
    "        self.i_data = np.append(self.i_data, new_x)\n",
    "        self.j_data = np.append(self.j_data, new_y)\n",
    "        self.mutex.unlock()\n",
    "            \n",
    "    def run(self):\n",
    "        while self.running:            \n",
    "            timer = QTimer()\n",
    "            timer.timeout.connect(self.update_plot)\n",
    "            timer.start(10)\n",
    "            self.exec_()\n",
    "        \n",
    "    def update_plot(self):\n",
    "        self.mutex.lock()\n",
    "        self.plot_widget.clear()\n",
    "        self.plot_widget.getPlotItem().plot(\n",
    "            self.x_data,\n",
    "            self.y_data,\n",
    "            name=\"Setting Values\",\n",
    "            pen=self.pen1)\n",
    "        self.mutex.unlock()\n",
    "        self.mutex.lock()\n",
    "        self.plot_widget.getPlotItem().plot(\n",
    "            self.i_data,\n",
    "            self.j_data,\n",
    "            name=\"Monitor Values\",\n",
    "            symbol='o',\n",
    "            symbolSize=10,\n",
    "            symbolBrush='b')\n",
    "        self.mutex.unlock()\n",
    "\n",
    "    def stop(self):\n",
    "        self.running = False"
   ]
  }
 ],
 "metadata": {
  "kernelspec": {
   "display_name": "Python 3",
   "language": "python",
   "name": "python3"
  },
  "language_info": {
   "codemirror_mode": {
    "name": "ipython",
    "version": 3
   },
   "file_extension": ".py",
   "mimetype": "text/x-python",
   "name": "python",
   "nbconvert_exporter": "python",
   "pygments_lexer": "ipython3",
   "version": "3.8.5"
  }
 },
 "nbformat": 4,
 "nbformat_minor": 4
}
