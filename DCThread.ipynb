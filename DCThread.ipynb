{
 "cells": [
  {
   "cell_type": "code",
   "execution_count": 1,
   "metadata": {},
   "outputs": [
    {
     "name": "stderr",
     "output_type": "stream",
     "text": [
      "C:\\Users\\15421\\anaconda3\\lib\\site-packages\\pyqtgraph\\colors\\palette.py:1: RuntimeWarning: PyQtGraph supports Qt version >= 5.15, but 5.9.7 detected.\n",
      "  from ..Qt import QtGui\n"
     ]
    }
   ],
   "source": [
    "import sys\n",
    "from matplotlib.backends.backend_qt5agg import FigureCanvasQTAgg as FigureCanvas\n",
    "from matplotlib.figure import Figure\n",
    "from PyQt5.QtGui import QIcon\n",
    "from PyQt5.QtCore import Qt, QTimer, QThread, QMutex\n",
    "from PyQt5.QtWidgets import *\n",
    "from PyQt5 import QtCore, QtGui, QtWidgets\n",
    "import pyqtgraph as pg\n",
    "\n",
    "from port_ctrl1 import Rigol_DCPort\n",
    "from CAENDesktopHighVoltagePowerSupply1 import CAENDesktopHighVoltagePowerSupply, OneCAENChannel\n",
    "import pyvisa as visa\n",
    "import time\n",
    "import numpy as np\n",
    "import serial\n",
    "import serial.tools.list_ports \n",
    "from matplotlib import pyplot as plt\n",
    "from DC_Scan_class import *\n",
    "from random import randint\n",
    "from UI_Main_Window_Object import Ui_MainWindow"
   ]
  },
  {
   "cell_type": "code",
   "execution_count": 3,
   "metadata": {},
   "outputs": [],
   "source": [
    "class DCThread(QThread):\n",
    "    def __init__(self, DC, plotthread):\n",
    "        self.DC=DC    \n",
    "        self.mutex = QMutex()\n",
    "        self.thread=plotthread\n",
    "        \n",
    "    def run(self):\n",
    "        while self.running:            \n",
    "            timer = QTimer()\n",
    "            timer.timeout.connect(monitor)\n",
    "            timer.start(10)\n",
    "            self.exec_()\n",
    "    \n",
    "    def monitor(self):\n",
    "        self.mutex.lock()\n",
    "        #Hmon = DC.DC.get_single_channel_parameter(\"VMON\", DC.Hchannel[-1])\n",
    "        RF_val=DC.RF.read_dc_v(channel = Achannel)\n",
    "        try:\n",
    "            Hmon=float(Hmon)\n",
    "            self.thread.update_data2(RF_val, DC.curr_q[-1])\n",
    "        except:\n",
    "            pass\n",
    "        self.mutex.unlock()\n",
    "    \n",
    "    def stop(self):\n",
    "        self.running = False"
   ]
  },
  {
   "cell_type": "code",
   "execution_count": null,
   "metadata": {},
   "outputs": [],
   "source": []
  }
 ],
 "metadata": {
  "kernelspec": {
   "display_name": "Python 3",
   "language": "python",
   "name": "python3"
  },
  "language_info": {
   "codemirror_mode": {
    "name": "ipython",
    "version": 3
   },
   "file_extension": ".py",
   "mimetype": "text/x-python",
   "name": "python",
   "nbconvert_exporter": "python",
   "pygments_lexer": "ipython3",
   "version": "3.8.5"
  }
 },
 "nbformat": 4,
 "nbformat_minor": 4
}
