{
 "cells": [
  {
   "cell_type": "code",
   "execution_count": 2,
   "id": "8eaa2649-aba1-4d64-b56a-0b6201e20205",
   "metadata": {},
   "outputs": [],
   "source": [
    "# Import Packages\n",
    "from port_ctrl1 import Rigol_DCPort\n",
    "from CAENDesktopHighVoltagePowerSupply1 import CAENDesktopHighVoltagePowerSupply, OneCAENChannel\n",
    "import pyvisa as visa\n",
    "import time\n",
    "import numpy as np\n",
    "import serial\n",
    "import serial.tools.list_ports \n",
    "from matplotlib import pyplot as plt\n",
    "from DC_Scan_class import *\n",
    "from random import randint\n",
    "from QMS_mainwindow import Ui_MainWindow\n",
    "from PlotThread import PlotThread\n",
    "from DCThread import DCThread\n",
    "from First_Stability_Diagram import Stability_Diagram as SD\n",
    "#from Amp_DC_converter import converter\n",
    "\n",
    "import sys\n",
    "from matplotlib.backends.backend_qt5agg import FigureCanvasQTAgg as FigureCanvas\n",
    "from matplotlib.figure import Figure\n",
    "from PyQt5.QtGui import QIcon\n",
    "from PyQt5.QtCore import Qt, QTimer, QThread, QMutex\n",
    "from PyQt5.QtWidgets import *\n",
    "from PyQt5 import QtCore, QtGui, QtWidgets\n",
    "import pyqtgraph as pg"
   ]
  },
  {
   "cell_type": "code",
   "execution_count": 4,
   "id": "8a895b8e-52e0-4017-90ee-9a091bd330bb",
   "metadata": {},
   "outputs": [],
   "source": [
    "class Configurations():\n",
    "    def __init__(self, ser, RF_chan, DC_chan_pos, DC_chan_neg, RF_freq, In_radius, ion_mass, ion_charge):\n",
    "        self.DC = DC_Scan_class(ser,Achannel=RF_chan,Hchannel=DC_chan_pos, Hchannel1=DC_chan_neg)\n",
    "        self.RF_freq=float(RF_freq) * 10**3. * 2 * np.pi\n",
    "        self.In_radius=float(In_radius) * 10**(-3.)\n",
    "        self.ion_mass=float(ion_mass) * 1.6605402E-27\n",
    "        self.ion_charge=float(ion_charge) * 1.6 * 10**(-19)\n",
    "        self.SD=SD()\n",
    "        self.x0=self.SD.x0\n",
    "        self.y0=self.SD.func0(self.x0)\n",
    "        self.u_con = self.y0 * self.ion_mass * self.In_radius**2.* self.RF_freq**2. /(4. * self.ion_charge)\n",
    "        self.v_con = self.x0 * self.ion_mass * self.In_radius**2.* self.RF_freq**2. /(2. * self.ion_charge)\n",
    "        self.u_ref = Amp_DC_converter(\"amplitude_data.csv\", 4)\n",
    "        self.v_ref = Amp_DC_converter(\"DC_data.csv\", 4)\n",
    "        self.v_set = self.v_ref.converter(self.v_con)\n",
    "        self.u_set = self.u_ref.converter(self.u_con)\n",
    "        self.timer = QTimer()\n",
    "        self.timer.timeout.connect(self.Timer)\n",
    "        self.count = 0\n",
    "    \n",
    "    def config(self):\n",
    "        # First set the amplitude of RF\n",
    "        self.DC.RF_set(self.v_set)\n",
    "\n",
    "        # Wait 5 seconds for RF configuration\n",
    "        self.timer.start(1000)\n",
    "        while self.count < 5:\n",
    "            QApplication.processEvents()\n",
    "        self.timer.stop()\n",
    "        self.count = 0\n",
    "        \n",
    "        # Then set the DC offset\n",
    "        self.DC.DC_set(self.u_set,DC_chan_pos)\n",
    "        self.DC.DC_set(self.u_set,DC_chan_neg)\n",
    "        return\n",
    "\n",
    "    def cancel_config(self):\n",
    "        self.DC.RF_set(0)\n",
    "        self.DC.DC_set(0,DC_chan_pos)\n",
    "        self.DC.DC_set(0,DC_chan_neg)\n",
    "\n",
    "        # clear prior settings\n",
    "        self.DC.RF_set(0)\n",
    "        self.DC.DC_set(0,DC_chan_pos)\n",
    "        self.DC.DC_set(0,DC_chan_neg)\n",
    "\n",
    "        # Wait At least 30 seconds to complete\n",
    "        self.DC.RF_channel(state=\"OFF\")\n",
    "        self.DC.DC_channel(DC_chan_pos, state=\"OFF\")\n",
    "        self.DC.DC_channel(DC_chan_neg, state=\"OFF\")\n",
    "        self.timer.start(1000)\n",
    "        while self.count < 30:\n",
    "            QApplication.processEvents()\n",
    "        self.timer.stop()\n",
    "        self.count = 0\n",
    "\n",
    "    def Timer(self):\n",
    "        self.count += 1"
   ]
  },
  {
   "cell_type": "code",
   "execution_count": 3,
   "id": "2ba76736-7d59-4fca-8604-9577578deb2a",
   "metadata": {},
   "outputs": [],
   "source": [
    "a = np.zeros([200, 200])\n",
    "b = np.random.randint(-2, 3, size = (200, 200))\n",
    "c = a > b"
   ]
  },
  {
   "cell_type": "code",
   "execution_count": 5,
   "id": "242d3569",
   "metadata": {},
   "outputs": [
    {
     "name": "stdout",
     "output_type": "stream",
     "text": [
      "<class 'numpy.ndarray'>\n",
      "<class 'numpy.ndarray'>\n"
     ]
    }
   ],
   "source": [
    "print(type(a))\n",
    "print(type(b))"
   ]
  },
  {
   "cell_type": "code",
   "execution_count": 7,
   "id": "08e93351",
   "metadata": {},
   "outputs": [
    {
     "name": "stdout",
     "output_type": "stream",
     "text": [
      "83\n"
     ]
    }
   ],
   "source": [
    "print(sum(c[0]))"
   ]
  },
  {
   "cell_type": "code",
   "execution_count": null,
   "id": "3734ebeb",
   "metadata": {},
   "outputs": [],
   "source": []
  }
 ],
 "metadata": {
  "kernelspec": {
   "display_name": "Python 3 (ipykernel)",
   "language": "python",
   "name": "python3"
  },
  "language_info": {
   "codemirror_mode": {
    "name": "ipython",
    "version": 3
   },
   "file_extension": ".py",
   "mimetype": "text/x-python",
   "name": "python",
   "nbconvert_exporter": "python",
   "pygments_lexer": "ipython3",
   "version": "3.10.9"
  }
 },
 "nbformat": 4,
 "nbformat_minor": 5
}
