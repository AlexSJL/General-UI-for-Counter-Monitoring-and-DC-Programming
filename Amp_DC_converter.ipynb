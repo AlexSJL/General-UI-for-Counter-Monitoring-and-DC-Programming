{
 "cells": [
  {
   "cell_type": "code",
   "execution_count": 1,
   "id": "9282912c-660f-4d98-95bd-44592c0a7c1b",
   "metadata": {},
   "outputs": [],
   "source": [
    "import numpy as np\n",
    "import csv"
   ]
  },
  {
   "cell_type": "markdown",
   "id": "cb1ba7b6-f480-4e9d-b837-5811a0a6c98e",
   "metadata": {},
   "source": [
    "# Data Generation for Testing"
   ]
  },
  {
   "cell_type": "code",
   "execution_count": 5,
   "id": "cc6f1505-9a10-4f1b-ac0e-a59cd0daca4a",
   "metadata": {},
   "outputs": [
    {
     "name": "stdout",
     "output_type": "stream",
     "text": [
      "Data has been written to amplitude_data.csv\n"
     ]
    }
   ],
   "source": [
    "filename0 = \"amplitude_data.csv\"\n",
    "filename1 = \"DC_data.csv\"\n",
    "\n",
    "fieldname0 = [\"DC Power Input\", \"RF Amplitude\"]\n",
    "dict0 = []\n",
    "DC_power_input = np.linspace(0, 6, 500)\n",
    "RF_Amplitude = np.linspace(0, 2000, 500)\n",
    "\n",
    "for i in range(500):\n",
    "    temp = {'DC Power Input': DC_power_input[i], 'RF Amplitude': RF_Amplitude[i]}\n",
    "    dict0.append(temp)\n",
    "\n",
    "with open(filename0, 'w') as csvfile:\n",
    "    writer = csv.DictWriter(csvfile, fieldnames=fieldname0)\n",
    "    writer.writeheader()\n",
    "    writer.writerows(dict0)\n",
    "\n",
    "print(f\"Data has been written to {filename0}\")"
   ]
  },
  {
   "cell_type": "code",
   "execution_count": 7,
   "id": "a10f1a7c-0133-4db0-9a74-a895673fdcc8",
   "metadata": {},
   "outputs": [
    {
     "name": "stdout",
     "output_type": "stream",
     "text": [
      "Data has been written to DC_data.csv\n"
     ]
    }
   ],
   "source": [
    "fieldname1 = [\"DC Power Input\", \"DC Offset\"]\n",
    "dict1 = []\n",
    "DC_power_input1 = np.linspace(0, 2000, 500)\n",
    "DC_Offset = np.linspace(0, 200, 500)\n",
    "\n",
    "for i in range(500):\n",
    "    temp = {'DC Power Input': DC_power_input1[i], 'DC Offset': RF_Amplitude[i]}\n",
    "    dict1.append(temp)\n",
    "\n",
    "with open(filename1, 'w') as csvfile:\n",
    "    writer = csv.DictWriter(csvfile, fieldnames=fieldname1)\n",
    "    writer.writeheader()\n",
    "    writer.writerows(dict1)\n",
    "\n",
    "print(f\"Data has been written to {filename1}\")"
   ]
  },
  {
   "cell_type": "code",
   "execution_count": 11,
   "id": "8616e2d1-6085-47af-a7c7-2d3dc4eefa6d",
   "metadata": {},
   "outputs": [],
   "source": [
    "class Amp_DC_converter():\n",
    "    def __init__(filename, fitting_order=0):\n",
    "        self.data = read_file(filename)\n",
    "        self.fitting_order = fitting_order\n",
    "\n",
    "    def read_file(self, filename):\n",
    "        x_data = []\n",
    "        y_data = []\n",
    "        with open(filename, 'r') as file:\n",
    "            csvFile = csv.reader(file)\n",
    "            for i in range(1, len(csvFile)):\n",
    "                x_data.append(float(csvFile[i][0]))\n",
    "                y_data.append(float(csvFile[i][1]))\n",
    "        return [x_data, y_data]\n",
    "\n",
    "    def converter(self, val):\n",
    "        coef = fitting(self, self.data[1], self.data[0])\n",
    "        return self.compute(val, coef), self.eval(self.data[0], self.data[1], coef)\n",
    "    \n",
    "    def fitting(self, y_data, x_data):\n",
    "        coef = np.polyfit(x_data, y_data, self.fitting_order)\n",
    "        return coef\n",
    "        \n",
    "    def eval(self, x_data, y_data, coef):\n",
    "        y_temp = []\n",
    "        for x in x_data:\n",
    "            temp = 0\n",
    "            for i in range(len(coef)):\n",
    "                temp += coef[i] * x ** (len(coef) - 1 - i)\n",
    "            y_temp.append(temp)\n",
    "        error = np. mean((y_temp-y_data)**2.)\n",
    "        return error\n",
    "\n",
    "    def compute(self, x, coef):\n",
    "        eval = 0\n",
    "        for i in range(len(coef)):\n",
    "            eval += coef[i] * x ** (len(coef) - 1 - i)\n",
    "        return eval"
   ]
  },
  {
   "cell_type": "code",
   "execution_count": null,
   "id": "8cd515a4-3789-406f-92b4-c11f5e4aabac",
   "metadata": {},
   "outputs": [],
   "source": []
  }
 ],
 "metadata": {
  "kernelspec": {
   "display_name": "Python 3 (ipykernel)",
   "language": "python",
   "name": "python3"
  },
  "language_info": {
   "codemirror_mode": {
    "name": "ipython",
    "version": 3
   },
   "file_extension": ".py",
   "mimetype": "text/x-python",
   "name": "python",
   "nbconvert_exporter": "python",
   "pygments_lexer": "ipython3",
   "version": "3.10.6"
  }
 },
 "nbformat": 4,
 "nbformat_minor": 5
}
