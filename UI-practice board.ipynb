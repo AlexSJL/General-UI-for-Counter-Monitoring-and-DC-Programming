{
 "cells": [
  {
   "cell_type": "code",
   "execution_count": 1,
   "metadata": {
    "scrolled": true
   },
   "outputs": [],
   "source": [
    "from port_ctrl1 import *\n",
    "from CAENDesktopHighVoltagePowerSupply import CAENDesktopHighVoltagePowerSupply, OneCAENChannel\n",
    "import pyvisa as visa\n",
    "import time\n",
    "import numpy as np\n",
    "import serial\n",
    "import serial.tools.list_ports \n",
    "from matplotlib import pyplot as plt\n",
    "\n",
    "#In Jupyter notebook plots are display in static mode by default, not necessary for other interface\n",
    "%matplotlib qt5"
   ]
  },
  {
   "cell_type": "markdown",
   "metadata": {},
   "source": [
    "### programmable DCpower usb address for visa\n",
    "\n",
    "#### address1 = \"USB0::0x1AB1::0x0E11::DP8B242401816::INSTR\" #DP832A\n",
    "\n",
    "#### address2 = \"USB0::0x1AB1::0x0E11::DP8E234100254::INSTR\" #DP821A\n",
    "\n",
    "#### address3 = \"USB0::0x1AB1::0x0E11::DP8E244300633::INSTR\" \n",
    "\n",
    "#### address4 = \"USB0::0x1AB1::0x0E11::DP9A250900092::INSTR\""
   ]
  },
  {
   "cell_type": "code",
   "execution_count": 2,
   "metadata": {},
   "outputs": [],
   "source": [
    "def get_com():\n",
    "    Com_List = []\n",
    "    plist = list(serial.tools.list_ports.comports())\n",
    "    if len(plist) > 0:\n",
    "        for i in range(len(plist)):\n",
    "            Com_List.append(list(plist[i])[0])\n",
    "    \n",
    "    for com in Com_List:\n",
    "        if com == \"COM10\":\n",
    "            break\n",
    "        elif Com_List[-1] != \"COM12\":\n",
    "            raise ValueError(f'Port associate with CAEN supply is not found.')\n",
    "    return com"
   ]
  },
  {
   "cell_type": "code",
   "execution_count": 3,
   "metadata": {},
   "outputs": [
    {
     "name": "stdout",
     "output_type": "stream",
     "text": [
      "Reference DC power successfully initialized! The address is USB0::0x1AB1::0x0E11::DP8B242401816::INSTR\n",
      "CAEN device connect successfully.\n"
     ]
    }
   ],
   "source": [
    "# This Block build connection between PC and DC supplies\n",
    "address1 = \"USB0::0x1AB1::0x0E11::DP8B242401816::INSTR\" #DP832A\n",
    "DCport1 = Rigol_DCPort(address1)\n",
    "port = get_com()\n",
    "CAENport = CAENDesktopHighVoltagePowerSupply(port=port, timeout=1)"
   ]
  },
  {
   "cell_type": "code",
   "execution_count": 4,
   "metadata": {},
   "outputs": [],
   "source": [
    "# Top module function for scanning\n",
    "# Should we allow list input for interval?\n",
    "def DC_scan(A, H, Arange: list, Hrange: list, Astep=None, Hstep=None, intv=None, samp=None, Achannel:str = None, Hchannel:str = None):\n",
    "    '''\n",
    "    Input\n",
    "    A         param: Rigol_DCPort object\n",
    "    H         param: CAEN control object\n",
    "    Arange    param: Org and Dest of RF, a list\n",
    "    Hrange    param: Org and Dest for H, a list\n",
    "    Astep     param: a list of specified value (Not include org and dest, order insensitive) or just a constant\n",
    "    Hstep     param: a list of specified value (Not include org and dest, order insensitive) or just a constant\n",
    "    intv      param: time constant, integer or list of integers\n",
    "    samp      param: # of data points, when step of each one is specified,\n",
    "    Achannel  param: device channel\n",
    "    Hchannel  param: device channel\n",
    "    '''\n",
    "    \n",
    "    # Check Valid Input\n",
    "    if Astep is None and Hstep is None and samp is None:\n",
    "        raise ValueError(f'Please specified either the number of sampling points or step of increment for both HV voltage and RF amplitude.')\n",
    "        # No input in this case\n",
    "        \n",
    "    elif Astep is not None and Hstep is not None and samp is not None:\n",
    "        raise ValueError(f'Both specification exists, please only specify either step for both supplies or number of sampling points.')\n",
    "        # Specify more than one mode\n",
    "        \n",
    "    elif Astep is None and Hstep is None and samp is not None:\n",
    "        # Sampling with even space\n",
    "        sampling = samp\n",
    "        curr_q = np.linspace(Hrange[0], Hrange[1], sampling)\n",
    "        \n",
    "        # Check if spacing is appropriate\n",
    "        if np.abs(curr_q[1] - curr_q[0]) > 40:\n",
    "            # Choosing the minimal number of data points\n",
    "            sampling = int(np.ceil(np.abs(Hrange[1] - Hrange[0]) / 40))\n",
    "            curr_q = np.linspace(Hrange[0], Hrange[1], sampling)\n",
    "        \n",
    "        curr_a = np.linspace(Arange[0], Arange[1], sampling)\n",
    "        if intv < 3:\n",
    "            interval = 3 * np.ones(sampling)\n",
    "        else:\n",
    "            interval = intv * np.ones(sampling)\n",
    "        \n",
    "    elif Astep is not None and Hstep is not None and samp is None:\n",
    "        # Sampling with specific space of specific distance\n",
    "        # In this mode, only slow scan is allowed (duation > 30s)\n",
    "        if type(Astep) != type(Hstep):\n",
    "            raise ValueError(f'Both Astep and Hstep can either be both lists or both floating point numbers.')\n",
    "        elif type(Astep) == list:\n",
    "            if len(Astep) != len(Hstep):\n",
    "                raise ValueError(f'When both Astep and Hstep are lists, they should have the same length. Astep has length {len(Astep)} while Hstep has length {len(Hstep)}.')\n",
    "            else:\n",
    "                if type(intv) is int: # In this mode, voltage persists for a custom time duration, at least 60 seconds\n",
    "                    if intv < 30:\n",
    "                        interval = list(30 * np.ones(sampling))\n",
    "                    else:\n",
    "                        interval = list(intv * np.ones(sampling))            \n",
    "                elif type(intv) is list: # In this mode, duration for different voltage value can be customized, at least 60 seconds\n",
    "                    interval = intv\n",
    "                    for i in range(len(interval)):\n",
    "                        if interval[i] < 30:\n",
    "                            interval[i] = 30\n",
    "                            \n",
    "                curr_a = [Arange[0]] + Astep + [Arange[1]]\n",
    "                curr_q = [Hrange[0]] + Hstep + [Hrange[1]]\n",
    "        elif type(Astep) != list:\n",
    "            # At this moment by default we set H has the same number of points as A, ignoring Hstep\n",
    "            sampling = np.ceil(abs(Arange[1] - Arange[0]) / Astep)\n",
    "            curr_a = np.linspace(Arange[0], Arange[1], sampling)\n",
    "            curr_q = np.linspace(Hrange[0], Hrange[1], sampling)\n",
    "            interval = np.max(30, intv) * np.ones(sampling)\n",
    "            \n",
    "    curr_v = [] # monitored value of RF amplitude\n",
    "    curr_u = [] # monitored valur of DC voltage\n",
    "    \n",
    "    '''\n",
    "    Greatest step is 25V/s\n",
    "    '''\n",
    "    \n",
    "    '''\n",
    "    # 60s needed for CAEN reach the VSET\n",
    "    if type(intv) is int: # In this mode, voltage persists for a custom time duration, at least 60 seconds\n",
    "        if intv < 15:\n",
    "            interval = list(15 * np.ones(sampling))\n",
    "        else:\n",
    "            interval = list(intv * np.ones(sampling))            \n",
    "    elif type(intv) is list: # In this mode, duration for different voltage value can be customized, at least 60 seconds\n",
    "        interval = intv\n",
    "        for i in range(len(interval)):\n",
    "            if interval[i] < 15:\n",
    "                interval[i] = 15\n",
    "    '''\n",
    "    \n",
    "    # Turn on the output port for supply\n",
    "    H.send_command(CMD=\"SET\", PAR=\"ON\", CH=Hchannel[-1])\n",
    "    time.sleep(5)\n",
    "    H.send_command(CMD=\"SET\", PAR=\"ISET\", CH=Hchannel[-1], VAL=300)\n",
    "    H.send_command(CMD=\"SET\", PAR=\"VSET\", CH=Hchannel[-1], VAL=curr_q[0])\n",
    "    if curr_q[0] <= 3000:\n",
    "        time.sleep(30) # Waiting for CAEN to be set to the starting value\n",
    "    else:\n",
    "        time.sleep(60)\n",
    "    A.ChannelOn(channel=Achannel)\n",
    "    plt.ion()\n",
    "    \n",
    "    for i in range(sampling):\n",
    "        A.set_dc_fix_value(curr_a[i], 2, channel=Achannel)\n",
    "        H.send_command(CMD=\"SET\", PAR=\"VSET\", CH=Hchannel[-1], VAL=curr_q[i])\n",
    "        #H.send_command(CMD=\"SET\", PAR=\"ON\", CH=Hchannel[-1])\n",
    "        #time.sleep(30)\n",
    "        \n",
    "        for _ in range(int(interval[i])):\n",
    "            # Do not try to measure output with Power supply\n",
    "            try:\n",
    "                Hmon = H.get_single_channel_parameter(\"VSET\", Hchannel[-1])\n",
    "                if type(Hmon) != float:\n",
    "                    time.sleep(1)\n",
    "                    continue\n",
    "            except:\n",
    "                time.sleep(1)\n",
    "                continue\n",
    "            \n",
    "            curr_u.append(Hmon)\n",
    "            curr_v.append(A.read_dc_v(channel = Achannel))\n",
    "                \n",
    "            plt.clf()\n",
    "            plt.title(\"RF Amplitude vs DC Voltage\")\n",
    "            plt.plot(curr_v,curr_u, 'bo-')\n",
    "            plt.xlabel(\"RF Freq Amp Q (V)\")\n",
    "            plt.ylabel(\"DC Voltage U (V)\")\n",
    "            plt.grid()\n",
    "            plt.pause(0.001)\n",
    "            plt.ioff()\n",
    "            time.sleep(1)\n",
    "            \n",
    "    # After the entire process, close the output of both device\n",
    "    H.send_command(CMD=\"SET\", PAR=\"VSET\", CH=0, VAL=0)\n",
    "    H.send_command(CMD=\"SET\", PAR=\"ISET\", CH=0, VAL=0)\n",
    "    time.sleep(0.5)\n",
    "    H.send_command(CMD=\"SET\", PAR=\"OFF\", CH=Hchannel[-1])\n",
    "    A.ChannelOff(channel=Achannel)\n",
    "    A.reset()"
   ]
  },
  {
   "cell_type": "code",
   "execution_count": 7,
   "metadata": {},
   "outputs": [],
   "source": [
    "Arange = [0,5]\n",
    "Hrange = [300,500]\n",
    "Astep = None #[1, 4, 2, 3] \n",
    "Hstep = None #[600, 300, 700, 500]\n",
    "intv = 3\n",
    "samp = 25\n",
    "Achannel = \"CH3\"\n",
    "Hchannel = \"CH0\""
   ]
  },
  {
   "cell_type": "code",
   "execution_count": 11,
   "metadata": {},
   "outputs": [],
   "source": [
    "DC_scan(DCport1, CAENport, Arange=Arange, Hrange=Hrange, Astep=Astep, Hstep=Hstep, intv=intv, samp=samp, Achannel=Achannel, Hchannel=Hchannel)"
   ]
  },
  {
   "cell_type": "code",
   "execution_count": 8,
   "metadata": {},
   "outputs": [],
   "source": [
    "# Each time finish setting and turn on output of CAEN supply, turn off the output\n",
    "CAENport.send_command(CMD=\"SET\", PAR=\"VSET\", CH=0, VAL=0) # Turn off Output\n",
    "#CAENport.send_command(CMD=\"SET\", PAR=\"ON\", CH=0) # Turn off Output"
   ]
  },
  {
   "cell_type": "code",
   "execution_count": 9,
   "metadata": {},
   "outputs": [],
   "source": [
    "CAENport.send_command(CMD=\"SET\", PAR=\"ISET\", CH=0, VAL=0)"
   ]
  },
  {
   "cell_type": "code",
   "execution_count": 10,
   "metadata": {},
   "outputs": [],
   "source": [
    "CAENport.send_command(CMD=\"SET\", PAR=\"OFF\", CH=0) # Turn off Output, follows by "
   ]
  },
  {
   "cell_type": "code",
   "execution_count": null,
   "metadata": {},
   "outputs": [],
   "source": [
    "CAENport.send_command(CMD=\"SET\", PAR=\"ON\", CH=0)"
   ]
  },
  {
   "cell_type": "code",
   "execution_count": null,
   "metadata": {},
   "outputs": [],
   "source": []
  }
 ],
 "metadata": {
  "kernelspec": {
   "display_name": "Python 3",
   "language": "python",
   "name": "python3"
  },
  "language_info": {
   "codemirror_mode": {
    "name": "ipython",
    "version": 3
   },
   "file_extension": ".py",
   "mimetype": "text/x-python",
   "name": "python",
   "nbconvert_exporter": "python",
   "pygments_lexer": "ipython3",
   "version": "3.8.5"
  }
 },
 "nbformat": 4,
 "nbformat_minor": 4
}
