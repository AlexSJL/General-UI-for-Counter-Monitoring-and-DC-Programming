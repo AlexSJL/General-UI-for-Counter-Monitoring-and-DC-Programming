{
 "cells": [
  {
   "cell_type": "code",
   "execution_count": 1,
   "metadata": {},
   "outputs": [],
   "source": [
    "#from sympy import *\n",
    "import numpy as np\n",
    "from matplotlib import pyplot as plt"
   ]
  },
  {
   "cell_type": "code",
   "execution_count": 2,
   "metadata": {},
   "outputs": [
    {
     "ename": "SyntaxError",
     "evalue": "duplicate argument 'x1' in function definition (9897027.py, line 14)",
     "output_type": "error",
     "traceback": [
      "\u001b[1;36m  Cell \u001b[1;32mIn[2], line 14\u001b[1;36m\u001b[0m\n\u001b[1;33m    def diagram_data(self, x1=x_list0, x1=x_list1):\u001b[0m\n\u001b[1;37m                                       ^\u001b[0m\n\u001b[1;31mSyntaxError\u001b[0m\u001b[1;31m:\u001b[0m duplicate argument 'x1' in function definition\n"
     ]
    }
   ],
   "source": [
    "class Stability_Diagram():\n",
    "    def __init__(self):\n",
    "        self.x0 = 0.70600\n",
    "        self.x1=0.9091038686429043\n",
    "        self.x_list1=np.linspace(self.x0, self.x1, 50)\n",
    "        self.x_list0=np.linspace(0, self.x0, int(np.ceil(self.x0/(self.x_list1[1]-self.x_list1[0]))))\n",
    "        \n",
    "    def func0(self, x):\n",
    "        return 1 - x - x**2./8 + x**3./64 + x**4./1536 + 11*x**5./36864 + 49*x**6./589824 - 55*x**7./9437184 - 265*x**8./113246208\n",
    "\n",
    "    def func1(self, x):\n",
    "        return x**2./2 - 7*x**4./128 + 29*x**6./2304 - 68687*x**8./18874368\n",
    "    \n",
    "    def diagram_data(self, x1=x_list0, x1=x_list1):\n",
    "        self.y_list0 = self.func1(self.x_list0)\n",
    "        self.y_list1 = self.func0(self.x_list1)\n",
    "        self.x_list=list(np.concatenate((x_list0, x_list1)))\n",
    "        self.y_list=list(np.concatenate((y_list0, y_list1)))\n",
    "        return [self.x_list, self.y_list], [self.x_list, list(np.zeros(len(self.x_list)))]"
   ]
  },
  {
   "cell_type": "code",
   "execution_count": 5,
   "metadata": {},
   "outputs": [
    {
     "name": "stdout",
     "output_type": "stream",
     "text": [
      "31.112978982200463\n"
     ]
    }
   ],
   "source": [
    "q = 0.9091038686429043\n",
    "V = 80\n",
    "r0 = 6 * 10**-3.\n",
    "omega = 1000* 10**3. * 2 * np.pi\n",
    "qm = 2*V * (1.6E-19/1.6605402E-27)/(q * r0**2. * omega**2.)\n",
    "print(qm)"
   ]
  },
  {
   "cell_type": "code",
   "execution_count": null,
   "metadata": {},
   "outputs": [],
   "source": []
  }
 ],
 "metadata": {
  "kernelspec": {
   "display_name": "Python 3 (ipykernel)",
   "language": "python",
   "name": "python3"
  },
  "language_info": {
   "codemirror_mode": {
    "name": "ipython",
    "version": 3
   },
   "file_extension": ".py",
   "mimetype": "text/x-python",
   "name": "python",
   "nbconvert_exporter": "python",
   "pygments_lexer": "ipython3",
   "version": "3.10.9"
  }
 },
 "nbformat": 4,
 "nbformat_minor": 4
}
